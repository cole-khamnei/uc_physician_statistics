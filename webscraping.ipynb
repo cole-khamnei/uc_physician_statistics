{
 "cells": [
  {
   "cell_type": "code",
   "execution_count": 77,
   "id": "spanish-arbor",
   "metadata": {},
   "outputs": [
    {
     "name": "stdout",
     "output_type": "stream",
     "text": [
      "The autoreload extension is already loaded. To reload it, use:\n",
      "  %reload_ext autoreload\n"
     ]
    }
   ],
   "source": [
    "%load_ext autoreload\n",
    "%autoreload 2\n",
    "\n",
    "\n",
    "import os\n",
    "import sys\n",
    "\n",
    "import numpy as np\n",
    "import pandas as pd\n",
    "import matplotlib.pyplot as plt\n",
    "import seaborn as sns\n",
    "\n",
    "import warnings\n",
    "warnings.simplefilter(action='ignore', category=FutureWarning)\n",
    "\n",
    "import constants\n",
    "import physician_finder as pf\n",
    "import TP_analysis as tp\n",
    "\n",
    "sys.path.append(\"../helpers\")\n",
    "import helpers"
   ]
  },
  {
   "cell_type": "markdown",
   "id": "06e61add",
   "metadata": {},
   "source": [
    "# Load UC salary data"
   ]
  },
  {
   "cell_type": "code",
   "execution_count": 49,
   "id": "2c47e706",
   "metadata": {},
   "outputs": [],
   "source": [
    "physician_salary_data = tp.load_physician_salary_data()"
   ]
  },
  {
   "cell_type": "markdown",
   "id": "c6be9337",
   "metadata": {},
   "source": [
    "# Webscrapeeeeee"
   ]
  },
  {
   "cell_type": "code",
   "execution_count": 156,
   "id": "558e74c3",
   "metadata": {},
   "outputs": [
    {
     "name": "stdout",
     "output_type": "stream",
     "text": [
      "https://www.uclahealth.org/heart/adult-cardiology-team\n"
     ]
    }
   ],
   "source": [
    "department = \"cardiology\"\n",
    "department_url = constants.UCLA_DEPARTMENT_URLS[department]\n",
    "print(department_url)"
   ]
  },
  {
   "cell_type": "code",
   "execution_count": 157,
   "id": "130097dc",
   "metadata": {},
   "outputs": [
    {
     "data": {
      "text/plain": [
       "90"
      ]
     },
     "execution_count": 157,
     "metadata": {},
     "output_type": "execute_result"
    }
   ],
   "source": [
    "provider_data = pf.get_providers(department_url)\n",
    "provider_data.head()\n",
    "len(provider_data)"
   ]
  },
  {
   "cell_type": "code",
   "execution_count": 158,
   "id": "ae136972",
   "metadata": {},
   "outputs": [],
   "source": [
    "from thefuzz import fuzz\n",
    "from tqdm.notebook import tqdm"
   ]
  },
  {
   "cell_type": "code",
   "execution_count": 159,
   "id": "2774ee88",
   "metadata": {},
   "outputs": [
    {
     "data": {
      "application/vnd.jupyter.widget-view+json": {
       "model_id": "452fbbc0077043148dc137b580103ee2",
       "version_major": 2,
       "version_minor": 0
      },
      "text/plain": [
       "  0%|          | 0/90 [00:00<?, ?it/s]"
      ]
     },
     "metadata": {},
     "output_type": "display_data"
    }
   ],
   "source": [
    "names = physician_salary_data[\"employee_name\"].str.lower()\n",
    "\n",
    "department_salary_df = []\n",
    "for i, row in tqdm(provider_data.iterrows(), total=len(provider_data)):\n",
    "    indices = names.apply(fuzz.ratio, args=(row[\"name\"].lower(),))\n",
    "    df_i = physician_salary_data.loc[indices >= 80].copy()\n",
    "    if len(df_i) > 0:\n",
    "        df_i[\"degree\"] = row[\"degree\"]\n",
    "        df_i[\"department\"] = department\n",
    "        df_i[\"ws_name\"] = row[\"name\"].lower()\n",
    "        department_salary_df.append(df_i)\n",
    "\n",
    "department_salary_df = pd.concat(department_salary_df)"
   ]
  },
  {
   "cell_type": "code",
   "execution_count": 160,
   "id": "89d01461",
   "metadata": {},
   "outputs": [],
   "source": [
    "data = department_salary_df.query(\"total_pay < 1500000\")\n",
    "data = data.loc[data[\"job_title\"].str.contains(\"prof\")]"
   ]
  },
  {
   "cell_type": "code",
   "execution_count": 161,
   "id": "b20f8d32",
   "metadata": {},
   "outputs": [],
   "source": [
    "data[\"inflation_adjusted_pay\"] = (1.03 ** (2022 - data[\"year\"])) * data[\"total_pay\"]"
   ]
  },
  {
   "cell_type": "code",
   "execution_count": 163,
   "id": "6d601c68",
   "metadata": {},
   "outputs": [
    {
     "data": {
      "text/plain": [
       "(0.0, 1623945.9366265144)"
      ]
     },
     "execution_count": 163,
     "metadata": {},
     "output_type": "execute_result"
    },
    {
     "data": {
      "image/png": "[encoded data removed]",
      "text/plain": [
       "<Figure size 1008x432 with 1 Axes>"
      ]
     },
     "metadata": {
      "needs_background": "light"
     },
     "output_type": "display_data"
    }
   ],
   "source": [
    "fig, ax = plt.subplots(figsize=(14, 6))\n",
    "sns.kdeplot(data[\"inflation_adjusted_pay\"].values, shade=True, bw_method=.1)\n",
    "helpers.set_money_axis(ax.xaxis)\n",
    "ax.set_xlim(0, None)"
   ]
  },
  {
   "cell_type": "code",
   "execution_count": null,
   "id": "ca87d154",
   "metadata": {},
   "outputs": [],
   "source": []
  }
 ],
 "metadata": {
  "kernelspec": {
   "display_name": "Python 3 (ipykernel)",
   "language": "python",
   "name": "python3"
  },
  "language_info": {
   "codemirror_mode": {
    "name": "ipython",
    "version": 3
   },
   "file_extension": ".py",
   "mimetype": "text/x-python",
   "name": "python",
   "nbconvert_exporter": "python",
   "pygments_lexer": "ipython3",
   "version": "3.8.13"
  }
 },
 "nbformat": 4,
 "nbformat_minor": 5
}
