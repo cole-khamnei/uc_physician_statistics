{
 "cells": [
  {
   "cell_type": "code",
   "execution_count": 1,
   "id": "spanish-arbor",
   "metadata": {},
   "outputs": [],
   "source": [
    "%load_ext autoreload\n",
    "%autoreload 2\n",
    "\n",
    "\n",
    "import os\n",
    "import sys\n",
    "\n",
    "import numpy as np\n",
    "import pandas as pd\n",
    "import matplotlib.pyplot as plt\n",
    "import seaborn as sns\n",
    "\n",
    "import warnings\n",
    "warnings.simplefilter(action='ignore', category=FutureWarning)\n",
    "\n",
    "import constants\n",
    "import physician_finder as pf\n",
    "import TP_analysis as tp\n",
    "\n",
    "sys.path.append(\"../helpers\")\n",
    "import helpers"
   ]
  },
  {
   "cell_type": "markdown",
   "id": "06e61add",
   "metadata": {},
   "source": [
    "# Load UC salary data"
   ]
  },
  {
   "cell_type": "code",
   "execution_count": 2,
   "id": "2c47e706",
   "metadata": {},
   "outputs": [],
   "source": [
    "physician_salary_data = tp.load_physician_salary_data()"
   ]
  },
  {
   "cell_type": "markdown",
   "id": "c6be9337",
   "metadata": {},
   "source": [
    "# Webscrapeeeeee"
   ]
  },
  {
   "cell_type": "code",
   "execution_count": 8,
   "id": "558e74c3",
   "metadata": {},
   "outputs": [
    {
     "name": "stdout",
     "output_type": "stream",
     "text": [
      "https://pediatrics.ucsf.edu/1619786/emergency-medicine-faculty?combine=&page={page_number}\n"
     ]
    }
   ],
   "source": [
    "department = \"obgyn-MFM\"\n",
    "department = \"surgery-trauma\"\n",
    "department = \"pediatrics-EM\"\n",
    "year = 2020\n",
    "site = \"UCSF\"\n",
    "\n",
    "\n",
    "# department_url = constants.UCLA_DEPARTMENT_URLS[department]\n",
    "department_url = constants.UCSF_DEPARTMENT_URLS[department]\n",
    "print(department_url)"
   ]
  },
  {
   "cell_type": "code",
   "execution_count": 11,
   "id": "130097dc",
   "metadata": {},
   "outputs": [
    {
     "data": {
      "text/html": [
       "<div>\n",
       "<style scoped>\n",
       "    .dataframe tbody tr th:only-of-type {\n",
       "        vertical-align: middle;\n",
       "    }\n",
       "\n",
       "    .dataframe tbody tr th {\n",
       "        vertical-align: top;\n",
       "    }\n",
       "\n",
       "    .dataframe thead th {\n",
       "        text-align: right;\n",
       "    }\n",
       "</style>\n",
       "<table border=\"1\" class=\"dataframe\">\n",
       "  <thead>\n",
       "    <tr style=\"text-align: right;\">\n",
       "      <th></th>\n",
       "      <th>index</th>\n",
       "      <th>name</th>\n",
       "      <th>degree</th>\n",
       "    </tr>\n",
       "  </thead>\n",
       "  <tbody>\n",
       "    <tr>\n",
       "      <th>0</th>\n",
       "      <td>0</td>\n",
       "      <td>Nisa Atigapramoj</td>\n",
       "      <td>MD</td>\n",
       "    </tr>\n",
       "    <tr>\n",
       "      <th>1</th>\n",
       "      <td>1</td>\n",
       "      <td>Steven Bin</td>\n",
       "      <td>MD</td>\n",
       "    </tr>\n",
       "    <tr>\n",
       "      <th>2</th>\n",
       "      <td>2</td>\n",
       "      <td>Carol Chen</td>\n",
       "      <td>MD</td>\n",
       "    </tr>\n",
       "    <tr>\n",
       "      <th>3</th>\n",
       "      <td>3</td>\n",
       "      <td>Rajesh Daftary</td>\n",
       "      <td>MD, MPH</td>\n",
       "    </tr>\n",
       "    <tr>\n",
       "      <th>4</th>\n",
       "      <td>4</td>\n",
       "      <td>Nicolaus Glomb</td>\n",
       "      <td>MD, MPH</td>\n",
       "    </tr>\n",
       "    <tr>\n",
       "      <th>5</th>\n",
       "      <td>5</td>\n",
       "      <td>Israel Green-Hopkins</td>\n",
       "      <td>MD</td>\n",
       "    </tr>\n",
       "    <tr>\n",
       "      <th>6</th>\n",
       "      <td>6</td>\n",
       "      <td>Jacqueline Grupp-Phelan</td>\n",
       "      <td>MD, MPH</td>\n",
       "    </tr>\n",
       "    <tr>\n",
       "      <th>7</th>\n",
       "      <td>7</td>\n",
       "      <td>Aaron Kornblith</td>\n",
       "      <td>MD</td>\n",
       "    </tr>\n",
       "    <tr>\n",
       "      <th>8</th>\n",
       "      <td>8</td>\n",
       "      <td>Margaret Lin-Martore</td>\n",
       "      <td>MD</td>\n",
       "    </tr>\n",
       "    <tr>\n",
       "      <th>9</th>\n",
       "      <td>9</td>\n",
       "      <td>Evelyn Porter</td>\n",
       "      <td>MD, MS</td>\n",
       "    </tr>\n",
       "    <tr>\n",
       "      <th>10</th>\n",
       "      <td>10</td>\n",
       "      <td>Sonny Tat</td>\n",
       "      <td>MD, MPH</td>\n",
       "    </tr>\n",
       "    <tr>\n",
       "      <th>22</th>\n",
       "      <td>0</td>\n",
       "      <td>Dina Wallin</td>\n",
       "      <td>MD</td>\n",
       "    </tr>\n",
       "    <tr>\n",
       "      <th>23</th>\n",
       "      <td>1</td>\n",
       "      <td>Heidi Werner</td>\n",
       "      <td>MD</td>\n",
       "    </tr>\n",
       "  </tbody>\n",
       "</table>\n",
       "</div>"
      ],
      "text/plain": [
       "    index                     name   degree\n",
       "0       0         Nisa Atigapramoj       MD\n",
       "1       1               Steven Bin       MD\n",
       "2       2               Carol Chen       MD\n",
       "3       3           Rajesh Daftary  MD, MPH\n",
       "4       4           Nicolaus Glomb  MD, MPH\n",
       "5       5     Israel Green-Hopkins       MD\n",
       "6       6  Jacqueline Grupp-Phelan  MD, MPH\n",
       "7       7          Aaron Kornblith       MD\n",
       "8       8     Margaret Lin-Martore       MD\n",
       "9       9            Evelyn Porter   MD, MS\n",
       "10     10                Sonny Tat  MD, MPH\n",
       "22      0              Dina Wallin       MD\n",
       "23      1             Heidi Werner       MD"
      ]
     },
     "execution_count": 11,
     "metadata": {},
     "output_type": "execute_result"
    }
   ],
   "source": [
    "provider_data = pf.get_providers(department_url).drop_duplicates([\"name\"])\n",
    "provider_data.head()\n",
    "len(provider_data)\n",
    "provider_data"
   ]
  },
  {
   "cell_type": "code",
   "execution_count": 12,
   "id": "ae136972",
   "metadata": {},
   "outputs": [],
   "source": [
    "from thefuzz import fuzz\n",
    "from tqdm.notebook import tqdm"
   ]
  },
  {
   "cell_type": "code",
   "execution_count": 13,
   "id": "2774ee88",
   "metadata": {},
   "outputs": [
    {
     "data": {
      "application/vnd.jupyter.widget-view+json": {
       "model_id": "38c5041c7dd747888d7eb2b11e70026c",
       "version_major": 2,
       "version_minor": 0
      },
      "text/plain": [
       "  0%|          | 0/13 [00:00<?, ?it/s]"
      ]
     },
     "metadata": {},
     "output_type": "display_data"
    }
   ],
   "source": [
    "names = physician_salary_data[\"employee_name\"].str.lower()\n",
    "\n",
    "department_salary_df = []\n",
    "for i, row in tqdm(provider_data.iterrows(), total=len(provider_data)):\n",
    "    indices = names.apply(fuzz.ratio, args=(row[\"name\"].lower(),))\n",
    "    df_i = physician_salary_data.loc[indices >= 80].copy()\n",
    "    if len(df_i) > 0:\n",
    "        df_i[\"degree\"] = row[\"degree\"]\n",
    "        df_i[\"department\"] = department\n",
    "        df_i[\"ws_name\"] = row[\"name\"].lower()\n",
    "        department_salary_df.append(df_i)\n",
    "\n",
    "department_salary_df = pd.concat(department_salary_df)"
   ]
  },
  {
   "cell_type": "code",
   "execution_count": 14,
   "id": "89d01461",
   "metadata": {},
   "outputs": [],
   "source": [
    "data = department_salary_df.query(\"total_pay < 2_500_000\").query(\"total_pay > 120_000\")\n",
    "data = data.loc[data[\"job_title\"].str.contains(\"prof\")]"
   ]
  },
  {
   "cell_type": "code",
   "execution_count": 15,
   "id": "b20f8d32",
   "metadata": {},
   "outputs": [],
   "source": [
    "data[\"inflation_adjusted_pay\"] = (1.03 ** (2023 - data[\"year\"])) * data[\"total_pay\"]"
   ]
  },
  {
   "cell_type": "code",
   "execution_count": 16,
   "id": "4d0784dc",
   "metadata": {},
   "outputs": [],
   "source": [
    "year_data = data.query(f\"year == {year}\").sort_values(\"total_pay\").drop_duplicates(\"employee_name\")"
   ]
  },
  {
   "cell_type": "code",
   "execution_count": 17,
   "id": "6d601c68",
   "metadata": {},
   "outputs": [
    {
     "data": {
      "image/png": "[encoded data removed]",
      "text/plain": [
       "<Figure size 1008x432 with 1 Axes>"
      ]
     },
     "metadata": {
      "needs_background": "light"
     },
     "output_type": "display_data"
    }
   ],
   "source": [
    "variable = \"total_pay\"\n",
    "\n",
    "fig, ax = plt.subplots(figsize=(14, 6))\n",
    "sns.kdeplot(year_data[variable].values, shade=True, bw_method=.2)\n",
    "helpers.set_money_axis(ax.xaxis)\n",
    "ax.set_xlim(0, None)\n",
    "ax.set_xlabel(\"Total Compensation\")\n",
    "ax.set_title(f\"{year} {site} {department.title()} Salary\")\n",
    "median = np.round(np.median(year_data[variable].values), -2)\n",
    "ax.axvline(median, color=\"C0\", linestyle=\"--\", alpha=0.3, label=f\"Median: ${median:.02f}\")\n",
    "ax.legend();"
   ]
  },
  {
   "cell_type": "code",
   "execution_count": null,
   "id": "11fdc685",
   "metadata": {},
   "outputs": [],
   "source": []
  }
 ],
 "metadata": {
  "kernelspec": {
   "display_name": "Python 3 (ipykernel)",
   "language": "python",
   "name": "python3"
  },
  "language_info": {
   "codemirror_mode": {
    "name": "ipython",
    "version": 3
   },
   "file_extension": ".py",
   "mimetype": "text/x-python",
   "name": "python",
   "nbconvert_exporter": "python",
   "pygments_lexer": "ipython3",
   "version": "3.8.13"
  }
 },
 "nbformat": 4,
 "nbformat_minor": 5
}
